{
 "cells": [
  {
   "cell_type": "markdown",
   "metadata": {},
   "source": [
    "# The Battle of the Neighborhoods - Week 1\n",
    "## Japanese Cousine in New York"
   ]
  },
  {
   "cell_type": "markdown",
   "metadata": {},
   "source": [
    "## Introduction"
   ]
  },
  {
   "cell_type": "markdown",
   "metadata": {},
   "source": [
    "New York City’s demographics show that it is a large and ethnically diverse metropolis. It is the largest city in the United States with a long history of international immigration. New York City was home to nearly 8.5 million people in 2014, accounting for over 40% of the population of New York. As of the 2000 Census, over half of the 37,279 people of Japanese ancestry in the U.S. state of New York lived in New York City.\n",
    "\n",
    "As part of the final project , I have chosen to explore Japanese restaurants in the city of New York.\n",
    "New York is a rich and diverse metropolis, being home to the largest Japanese community on the East Coast of the United States. Being a prominent outpost of Japanese culture, it has inumerous japanese restaurants.\n",
    "As my project , i opted to list and visualise the areas with the most concentration of them and it's overall quality."
   ]
  },
  {
   "cell_type": "markdown",
   "metadata": {},
   "source": [
    "## Data"
   ]
  },
  {
   "cell_type": "markdown",
   "metadata": {},
   "source": [
    "#### New York City Dataset, containing Boroughs, Neighborhoods and their latitude and longitude.\n",
    ">https://cocl.us/new_york_dataset\n",
    "\n",
    "#### Japanese Restaurants in New York and their location and scores\n",
    ">Fousquare API\n",
    "\n",
    "#### GeoSpace Data, for generating choropleth maps\n",
    ">https://data.cityofnewyork.us/api/geospatial/tqmj-j8zm?method=export&format=GeoJSON"
   ]
  }
 ],
 "metadata": {
  "kernelspec": {
   "display_name": "Python",
   "language": "python",
   "name": "conda-env-python-py"
  },
  "language_info": {
   "codemirror_mode": {
    "name": "ipython",
    "version": 3
   },
   "file_extension": ".py",
   "mimetype": "text/x-python",
   "name": "python",
   "nbconvert_exporter": "python",
   "pygments_lexer": "ipython3",
   "version": "3.6.7"
  }
 },
 "nbformat": 4,
 "nbformat_minor": 4
}
